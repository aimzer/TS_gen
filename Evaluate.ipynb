{
 "cells": [
  {
   "cell_type": "code",
   "execution_count": 1,
   "metadata": {
    "collapsed": false
   },
   "outputs": [],
   "source": [
    "import numpy as np\n",
    "from utils.config import process_config\n",
    "from utils import factory\n",
    "\n",
    "from matplotlib import pyplot as plt\n",
    "\n",
    "import pandas as pd\n",
    "import seaborn as sns\n",
    "\n",
    "import warnings\n",
    "warnings.filterwarnings(\"ignore\")\n",
    "\n",
    "%matplotlib inline"
   ]
  },
  {
   "cell_type": "code",
   "execution_count": null,
   "metadata": {
    "collapsed": true
   },
   "outputs": [],
   "source": [
    "import tensorflow as tf"
   ]
  },
  {
   "cell_type": "markdown",
   "metadata": {},
   "source": [
    "Load a configuration file and data"
   ]
  },
  {
   "cell_type": "code",
   "execution_count": null,
   "metadata": {
    "collapsed": true
   },
   "outputs": [],
   "source": [
    "config, _ = process_config(\"configs/wae.json\")\n",
    "\n",
    "data = factory.create(\"data_loaders.\"+config.data['name'])(config)"
   ]
  },
  {
   "cell_type": "markdown",
   "metadata": {},
   "source": [
    "Plot training losses and indicators"
   ]
  },
  {
   "cell_type": "code",
   "execution_count": null,
   "metadata": {
    "collapsed": true
   },
   "outputs": [],
   "source": [
    "log = pd.read_csv(config.summary_dir+\"log.csv\",sep=';',index_col=0)\n",
    "res = pd.read_csv(config.summary_dir+\"results.csv\",sep=';',index_col=0)\n",
    "\n",
    "log.plot()\n",
    "plt.figure()\n",
    "res.plot()"
   ]
  },
  {
   "cell_type": "markdown",
   "metadata": {},
   "source": [
    "Load the model <br\\>\n",
    "Uncomment first lines to load new model"
   ]
  },
  {
   "cell_type": "code",
   "execution_count": 4,
   "metadata": {
    "collapsed": false
   },
   "outputs": [],
   "source": [
    "#del model \n",
    "#tf.reset_default_graph()\n",
    "\n",
    "model = factory.create(\"models.\"+config.model['name'])(config)"
   ]
  },
  {
   "cell_type": "markdown",
   "metadata": {},
   "source": [
    "Evaluate the model with respect to the dataset <br\\>\n",
    "Change checkpoint if you want to load model at a specific iteration"
   ]
  },
  {
   "cell_type": "code",
   "execution_count": null,
   "metadata": {
    "collapsed": true
   },
   "outputs": [],
   "source": [
    "N = 100000\n",
    "\n",
    "# checkpoint = \"experiments/\" + config.exp_name + \"/checkpoint/-53016\"\n",
    "checkpoint = None\n",
    "\n",
    "fake_labels = None\n",
    "if 'label' in config.data:\n",
    "    fake_labels = data.sample_random_labels(N)\n",
    "noise = model.sample_pz(N) if config.model['name'] ==\"wae\" else model.sample_noise(N) \n",
    "gen_input = [model.sample_pz(N), fake_labels] #, fake_masks\n",
    "\n",
    "with tf.Session() as sess:\n",
    "    model.load(sess, checkpoint)\n",
    "    fake_curves = model.generate_curves(sess,gen_input)\n",
    "\n",
    "print(\"evaluating ...\") \n",
    "\n",
    "fake_curves = data.inverse_transform(fake_curves, fake_labels)\n",
    "\n",
    "results = data.test_similarity(fake_curves)\n",
    "mean_tests = results[\"tests\"] \n",
    "fake_inds =  results[\"indicators\"]\n",
    "\n",
    "print(mean_tests)\n",
    "print(mean_tests.sum(1))"
   ]
  },
  {
   "cell_type": "markdown",
   "metadata": {},
   "source": [
    "Plot the global mean of real and generated curves"
   ]
  },
  {
   "cell_type": "code",
   "execution_count": null,
   "metadata": {
    "collapsed": true
   },
   "outputs": [],
   "source": [
    "plt.rcParams[\"figure.figsize\"] = (15,8)\n",
    "plt.plot(data.raw_data.mean())\n",
    "plt.plot(np.mean(fake_curves['data'],0))"
   ]
  },
  {
   "cell_type": "markdown",
   "metadata": {},
   "source": [
    "Plot random generated curves"
   ]
  },
  {
   "cell_type": "code",
   "execution_count": null,
   "metadata": {
    "collapsed": true
   },
   "outputs": [],
   "source": [
    "ind = np.random.choice(1000)\n",
    "plt.plot(fake_curves['data'][ind])"
   ]
  },
  {
   "cell_type": "markdown",
   "metadata": {},
   "source": [
    "Plot indicator distribution"
   ]
  },
  {
   "cell_type": "code",
   "execution_count": null,
   "metadata": {
    "collapsed": true
   },
   "outputs": [],
   "source": [
    "plt.rcParams[\"figure.figsize\"] = (15,10)\n",
    "i=1\n",
    "for ind in fake_inds.columns:\n",
    "    plt.subplot(3,2,i)\n",
    "    if ind==\"sens_clim\" or ind==\"sens_chauf\" or ind==\"ind_res2\":\n",
    "        plt.hist(data.indicators[ind], alpha=0.5, label=\"real\",normed=True)\n",
    "        plt.hist(fake_inds[ind], alpha=0.5, label=\"real\",normed=True)\n",
    "    else:\n",
    "        sns.distplot(np.arcsinh(data.indicators[ind]), kde=True, label=\"real\")\n",
    "        sns.distplot(np.arcsinh(fake_inds[ind]), kde=True, label=\"fake\")\n",
    "    i+=1"
   ]
  },
  {
   "cell_type": "markdown",
   "metadata": {},
   "source": [
    "Evaluate WAE model"
   ]
  },
  {
   "cell_type": "code",
   "execution_count": null,
   "metadata": {
    "collapsed": true
   },
   "outputs": [],
   "source": [
    "N = 10000\n",
    "test_curves = data.test_data[:N]\n",
    "train_curves = data.train_data[:N]\n",
    "\n",
    "with tf.Session() as sess:\n",
    "    model.load(sess, checkpoint)\n",
    "    train_res = model.reconstruct_curves(sess,train_curves)\n",
    "    test_res = model.reconstruct_curves(sess,test_curves)\n",
    "    \n",
    "print(\"train reconstruction : \"+ str(train_res['rec_loss']))\n",
    "print(\"test reconstruction : \"+ str(test_res['rec_loss']))"
   ]
  },
  {
   "cell_type": "markdown",
   "metadata": {},
   "source": [
    "Compare reconstructed train curves"
   ]
  },
  {
   "cell_type": "code",
   "execution_count": null,
   "metadata": {
    "collapsed": true
   },
   "outputs": [],
   "source": [
    "plt.rcParams[\"figure.figsize\"] = (15,8)\n",
    "plt.plot(train_curves.mean(0))\n",
    "plt.plot(train_res['rec_curves'].mean(0))"
   ]
  },
  {
   "cell_type": "markdown",
   "metadata": {},
   "source": [
    "Compare reconstructed test curves"
   ]
  },
  {
   "cell_type": "code",
   "execution_count": null,
   "metadata": {
    "collapsed": true
   },
   "outputs": [],
   "source": [
    "plt.plot(test_curves.mean(0))\n",
    "plt.plot(test_res['rec_curves'].mean(0))"
   ]
  }
 ],
 "metadata": {
  "kernelspec": {
   "display_name": "Python [conda env:py35arr]",
   "language": "python",
   "name": "conda-env-py35arr-py"
  },
  "language_info": {
   "codemirror_mode": {
    "name": "ipython",
    "version": 3
   },
   "file_extension": ".py",
   "mimetype": "text/x-python",
   "name": "python",
   "nbconvert_exporter": "python",
   "pygments_lexer": "ipython3",
   "version": "3.5.4"
  }
 },
 "nbformat": 4,
 "nbformat_minor": 2
}
